{
 "cells": [
  {
   "cell_type": "code",
   "execution_count": 1,
   "id": "be6e94d1-b4d6-4b28-b2ca-7b75006ef8cc",
   "metadata": {
    "tags": []
   },
   "outputs": [],
   "source": [
    "import torch"
   ]
  },
  {
   "cell_type": "code",
   "execution_count": 2,
   "id": "17b14f06-5955-4f05-9497-394bde3c70a0",
   "metadata": {
    "tags": []
   },
   "outputs": [],
   "source": [
    "import dgl"
   ]
  },
  {
   "cell_type": "code",
   "execution_count": 3,
   "id": "5c2bec24-07ed-4205-9b8d-68ff8224f14a",
   "metadata": {
    "tags": []
   },
   "outputs": [
    {
     "data": {
      "text/plain": [
       "['_CAPI_GetOutputNodeFeats',\n",
       " '_CAPI_GetInputNodeLabels',\n",
       " '_CAPI_GetBlocks',\n",
       " '_CAPI_GetBlock',\n",
       " '_CAPI_Next',\n",
       " '_CAPI_InitLocDataloader',\n",
       " '_CAPI_GetInputNodes',\n",
       " '_CAPI_GetOutputNodes',\n",
       " '_CAPI_CreateLocDataloader',\n",
       " '_CAPI_ScatterObjectCreate',\n",
       " '_CAPI_testffi']"
      ]
     },
     "execution_count": 3,
     "metadata": {},
     "output_type": "execute_result"
    }
   ],
   "source": [
    "from dgl._ffi.function import _init_api\n",
    "import dgl.backend as F\n",
    "\n",
    "_init_api(\"dgl.groot\", __name__)\n"
   ]
  },
  {
   "cell_type": "code",
   "execution_count": 4,
   "id": "cce3cc3c-efa0-480d-a2c8-77483028e21d",
   "metadata": {
    "tags": []
   },
   "outputs": [],
   "source": [
    "import dgl\n",
    "import torch\n",
    "import numpy as np\n",
    "from ogb.nodeproppred import DglNodePropPredDataset\n",
    "from dgl.utils import pin_memory_inplace\n",
    "dataset = DglNodePropPredDataset('ogbn-products', root=\"/home/juelin/dataset\")\n",
    "graph = dataset.graph[0]\n",
    "feats = graph.srcdata[\"feat\"]\n",
    "train_idx = dataset.get_idx_split()[\"train\"]\n",
    "indptr, indices, edge_id = graph.adj_tensors('csc')\n",
    "labels = dataset.labels\n",
    "\n",
    "feats_handle = pin_memory_inplace(feats)\n",
    "indptr_handle = pin_memory_inplace(indptr)\n",
    "indices_handle = pin_memory_inplace(indices)\n",
    "edge_id_handle = pin_memory_inplace(edge_id)"
   ]
  },
  {
   "cell_type": "code",
   "execution_count": 5,
   "id": "52f1b185-60ba-4f9a-b11e-8509b624c4de",
   "metadata": {
    "tags": []
   },
   "outputs": [],
   "source": [
    "from dgl.heterograph import DGLBlock\n",
    "\n",
    "def init_dataloader(rank: int, \n",
    "                          indptr: torch.Tensor, \n",
    "                          indices: torch.Tensor, \n",
    "                          feats: torch.Tensor,\n",
    "                          labels: torch.Tensor,\n",
    "                          seeds: torch.Tensor,\n",
    "                          fanouts: list[int],\n",
    "                          batch_size: int,\n",
    "                          max_pool_size: int = 2):\n",
    "    \n",
    "    return _CAPI_InitLocDataloader(rank, \n",
    "                                    F.zerocopy_to_dgl_ndarray(indptr),\n",
    "                                    F.zerocopy_to_dgl_ndarray(indices),\n",
    "                                    F.zerocopy_to_dgl_ndarray(feats),\n",
    "                                    F.zerocopy_to_dgl_ndarray(labels.to(rank)),\n",
    "                                    F.zerocopy_to_dgl_ndarray(seeds.to(rank)),\n",
    "                                    fanouts,\n",
    "                                    batch_size,\n",
    "                                    max_pool_size)\n",
    "\n",
    "def get_batch(key: int, layers:int = 3):\n",
    "    blocks = []\n",
    "    for i in range(layers):\n",
    "        gidx = _CAPI_GetBlock(key, i)\n",
    "        block = DGLBlock(gidx, (['_N'], ['_N']), ['_E'])\n",
    "        blocks.append(block)\n",
    "        \n",
    "    feat = _CAPI_GetOutputNodeFeats(key)\n",
    "    labels = _CAPI_GetInputNodeLabels(key)\n",
    "    return blocks, feat, labels\n"
   ]
  },
  {
   "cell_type": "code",
   "execution_count": 6,
   "id": "a20abbc2-f2c6-4c80-b489-5945db20a08d",
   "metadata": {
    "tags": []
   },
   "outputs": [
    {
     "name": "stderr",
     "output_type": "stream",
     "text": [
      "[21:41:26] /home/juelin/project/dgl_groot/src/groot_dataloader/loc_dataloader.h:53: Calling LocDataloaderObject default constructor\n",
      "[21:41:26] /home/juelin/project/dgl_groot/src/groot_dataloader/loc_dataloader.h:73: Creating LocDataloaderObject with init function\n"
     ]
    }
   ],
   "source": [
    "dataloader = init_dataloader(0, indptr, indices, feats, labels, train_idx, [20, 20, 20], 1024, 2)"
   ]
  },
  {
   "cell_type": "code",
   "execution_count": 26,
   "id": "e3154f65-4cc7-4e7a-bdd6-55e0b688ae4c",
   "metadata": {
    "tags": []
   },
   "outputs": [
    {
     "name": "stdout",
     "output_type": "stream",
     "text": [
      "start sampling for 192 mini-batches\n",
      "key=384\n",
      "key=385\n",
      "key=386\n",
      "key=387\n",
      "key=388\n",
      "key=389\n",
      "key=390\n",
      "key=391\n",
      "key=392\n",
      "key=393\n",
      "key=394\n",
      "key=395\n",
      "key=396\n",
      "key=397\n",
      "key=398\n",
      "key=399\n",
      "key=400\n",
      "key=401\n",
      "key=402\n",
      "key=403\n",
      "key=404\n",
      "key=405\n",
      "key=406\n",
      "key=407\n",
      "key=408\n",
      "key=409\n",
      "key=410\n",
      "key=411\n",
      "key=412\n",
      "key=413\n",
      "key=414\n",
      "key=415\n",
      "key=416\n",
      "key=417\n",
      "key=418\n",
      "key=419\n",
      "key=420\n",
      "key=421\n",
      "key=422\n",
      "key=423\n",
      "key=424\n",
      "key=425\n",
      "key=426\n",
      "key=427\n",
      "key=428\n",
      "key=429\n",
      "key=430\n",
      "key=431\n",
      "key=432\n",
      "key=433\n",
      "key=434\n",
      "key=435\n",
      "key=436\n",
      "key=437\n",
      "key=438\n",
      "key=439\n",
      "key=440\n",
      "key=441\n",
      "key=442\n",
      "key=443\n",
      "key=444\n",
      "key=445\n",
      "key=446\n",
      "key=447\n",
      "key=448\n",
      "key=449\n",
      "key=450\n",
      "key=451\n",
      "key=452\n",
      "key=453\n",
      "key=454\n",
      "key=455\n",
      "key=456\n",
      "key=457\n",
      "key=458\n",
      "key=459\n",
      "key=460\n",
      "key=461\n",
      "key=462\n",
      "key=463\n",
      "key=464\n",
      "key=465\n",
      "key=466\n",
      "key=467\n",
      "key=468\n",
      "key=469\n",
      "key=470\n",
      "key=471\n",
      "key=472\n",
      "key=473\n",
      "key=474\n",
      "key=475\n",
      "key=476\n",
      "key=477\n",
      "key=478\n",
      "key=479\n",
      "key=480\n",
      "key=481\n",
      "key=482\n",
      "key=483\n",
      "key=484\n",
      "key=485\n",
      "key=486\n",
      "key=487\n",
      "key=488\n",
      "key=489\n",
      "key=490\n",
      "key=491\n",
      "key=492\n",
      "key=493\n",
      "key=494\n",
      "key=495\n",
      "key=496\n",
      "key=497\n",
      "key=498\n",
      "key=499\n",
      "key=500\n",
      "key=501\n",
      "key=502\n",
      "key=503\n",
      "key=504\n",
      "key=505\n",
      "key=506\n",
      "key=507\n",
      "key=508\n",
      "key=509\n",
      "key=510\n",
      "key=511\n",
      "key=512\n",
      "key=513\n",
      "key=514\n",
      "key=515\n",
      "key=516\n",
      "key=517\n",
      "key=518\n",
      "key=519\n",
      "key=520\n",
      "key=521\n",
      "key=522\n",
      "key=523\n",
      "key=524\n",
      "key=525\n",
      "key=526\n",
      "key=527\n",
      "key=528\n",
      "key=529\n",
      "key=530\n",
      "key=531\n",
      "key=532\n",
      "key=533\n",
      "key=534\n",
      "key=535\n",
      "key=536\n",
      "key=537\n",
      "key=538\n",
      "key=539\n",
      "key=540\n",
      "key=541\n",
      "key=542\n",
      "key=543\n",
      "key=544\n",
      "key=545\n",
      "key=546\n",
      "key=547\n",
      "key=548\n",
      "key=549\n",
      "key=550\n",
      "key=551\n",
      "key=552\n",
      "key=553\n",
      "key=554\n",
      "key=555\n",
      "key=556\n",
      "key=557\n",
      "key=558\n",
      "key=559\n",
      "key=560\n",
      "key=561\n",
      "key=562\n",
      "key=563\n",
      "key=564\n",
      "key=565\n",
      "key=566\n",
      "key=567\n",
      "key=568\n",
      "key=569\n",
      "key=570\n",
      "key=571\n",
      "key=572\n",
      "key=573\n",
      "key=574\n",
      "key=575\n",
      "finished sampling one epoch in 16.6 sec\n",
      "fetching feature data 85436 MB; bandwidth 5134 MB/s\n"
     ]
    }
   ],
   "source": [
    "import time\n",
    "batch_size = 1024\n",
    "step = train_idx.shape[0] / batch_size\n",
    "step = int(step)\n",
    "feat_size_in_bytes = 0\n",
    "print(f\"start sampling for {step} mini-batches\") \n",
    "start = time.time()\n",
    "for i in range(step):\n",
    "    key = _CAPI_Next()\n",
    "    blocks, batch_feat, batch_labels = get_batch(key)\n",
    "    \n",
    "    num_feat, feat_width = batch_feat.shape\n",
    "    feat_size_in_bytes += num_feat * feat_width * 4\n",
    "    print(f\"{key=}\")\n",
    "\n",
    "end = time.time()\n",
    "\n",
    "feat_size_in_mb = feat_size_in_bytes / 1024 / 1024\n",
    "duration_in_s = end - start\n",
    "print(f\"finished sampling one epoch in {round(duration_in_s, 1)} sec\")\n",
    "print(f\"fetching feature data {round(feat_size_in_mb)} MB; bandwidth {round(feat_size_in_mb / duration_in_s)} MB/s\")"
   ]
  },
  {
   "cell_type": "code",
   "execution_count": 19,
   "id": "2ea74661-93a3-4da9-95d6-fe1b5e3a258c",
   "metadata": {
    "tags": []
   },
   "outputs": [],
   "source": [
    "blocks, batch_feat, batch_label = get_batch(key - 1)"
   ]
  },
  {
   "cell_type": "code",
   "execution_count": 20,
   "id": "4d3043d3-694d-4f08-b108-922ed8199391",
   "metadata": {
    "tags": []
   },
   "outputs": [
    {
     "data": {
      "text/plain": [
       "[Block(num_src_nodes=1024, num_dst_nodes=19953, num_edges=19953),\n",
       " Block(num_src_nodes=20387, num_dst_nodes=397301, num_edges=397301),\n",
       " Block(num_src_nodes=258697, num_dst_nodes=4973874, num_edges=4973874)]"
      ]
     },
     "execution_count": 20,
     "metadata": {},
     "output_type": "execute_result"
    }
   ],
   "source": [
    "blocks"
   ]
  },
  {
   "cell_type": "code",
   "execution_count": 21,
   "id": "e28b9510-a566-46fa-acdc-5efcae8513ae",
   "metadata": {
    "tags": []
   },
   "outputs": [],
   "source": [
    "block = blocks[0]"
   ]
  },
  {
   "cell_type": "code",
   "execution_count": 22,
   "id": "757391cf-4176-4eae-bc2d-e6fa52bc261f",
   "metadata": {
    "tags": []
   },
   "outputs": [
    {
     "data": {
      "text/plain": [
       "torch.Size([19953])"
      ]
     },
     "execution_count": 22,
     "metadata": {},
     "output_type": "execute_result"
    }
   ],
   "source": [
    "block.edges()[1].shape"
   ]
  },
  {
   "cell_type": "code",
   "execution_count": 23,
   "id": "ac401a15-2b1a-4619-bad7-3aeda76c43bc",
   "metadata": {
    "tags": []
   },
   "outputs": [
    {
     "data": {
      "text/plain": [
       "(1161223, 100)"
      ]
     },
     "execution_count": 23,
     "metadata": {},
     "output_type": "execute_result"
    }
   ],
   "source": [
    "batch_feat.shape"
   ]
  },
  {
   "cell_type": "code",
   "execution_count": 24,
   "id": "f1dbb792-d80e-403c-ae22-ba11cd08c40c",
   "metadata": {
    "tags": []
   },
   "outputs": [
    {
     "data": {
      "text/plain": [
       "464.4892"
      ]
     },
     "execution_count": 24,
     "metadata": {},
     "output_type": "execute_result"
    }
   ],
   "source": [
    "1161223 * 100 * 4 / 1000000"
   ]
  },
  {
   "cell_type": "code",
   "execution_count": null,
   "id": "ae9230c1-4f0d-4b76-b8f6-aabd4af4429a",
   "metadata": {},
   "outputs": [],
   "source": []
  },
  {
   "cell_type": "code",
   "execution_count": null,
   "id": "fa1b2059-94b6-4e54-a03e-a6ebc36b6083",
   "metadata": {},
   "outputs": [],
   "source": []
  }
 ],
 "metadata": {
  "kernelspec": {
   "display_name": "Python 3 (ipykernel)",
   "language": "python",
   "name": "python3"
  },
  "language_info": {
   "codemirror_mode": {
    "name": "ipython",
    "version": 3
   },
   "file_extension": ".py",
   "mimetype": "text/x-python",
   "name": "python",
   "nbconvert_exporter": "python",
   "pygments_lexer": "ipython3",
   "version": "3.11.4"
  }
 },
 "nbformat": 4,
 "nbformat_minor": 5
}
