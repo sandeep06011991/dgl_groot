{
 "cells": [
  {
   "cell_type": "code",
   "execution_count": 1,
   "id": "5e0c2546-6ed8-4eed-b494-0669eb66bc49",
   "metadata": {},
   "outputs": [],
   "source": [
    "import dgl\n",
    "import torch\n"
   ]
  },
  {
   "cell_type": "code",
   "execution_count": 4,
   "id": "31222954-8582-40fd-b190-ab55e6c86868",
   "metadata": {},
   "outputs": [],
   "source": [
    "load_path = \"/data/sandeep/groot_data/snap/com-friendster\"\n",
    "partition_map = torch.load(f\"{load_path}/partition_map_True\").to(0)\n",
    "indptr = torch.load(f\"{load_path}/indptr_64_wsloop.pt\")\n",
    "indices = torch.load(f\"{load_path}/indices_64_wsloop.pt\")\n",
    "train_idx = torch.load(f\"{load_path}/train_idx_64.pt\").to(0)\n",
    "edges = torch.empty(0, dtype=indices.dtype)\n"
   ]
  },
  {
   "cell_type": "code",
   "execution_count": 5,
   "id": "8310d0e7-c6de-4ce2-a118-99cfa292f935",
   "metadata": {},
   "outputs": [
    {
     "data": {
      "text/plain": [
       "Graph(num_nodes=124836180, num_edges=1930903315,\n",
       "      ndata_schemes={}\n",
       "      edata_schemes={})"
      ]
     },
     "execution_count": 5,
     "metadata": {},
     "output_type": "execute_result"
    }
   ],
   "source": [
    "graph = dgl.graph(('csc', (indptr,indices,edges)))\n",
    "graph.pin_memory_()"
   ]
  },
  {
   "cell_type": "code",
   "execution_count": 6,
   "id": "5d26f8a2-3c63-4322-b8ca-8f1a93e80de5",
   "metadata": {},
   "outputs": [],
   "source": [
    "indptr_d = indptr.to(0)"
   ]
  },
  {
   "cell_type": "code",
   "execution_count": 7,
   "id": "a4acc4c4-02ce-48b7-a48c-df1c5e7610c9",
   "metadata": {},
   "outputs": [],
   "source": [
    "num_nodes = indptr.shape[0] - 1\n",
    "\n",
    "def final_freq_per_partition(training_ids, graph, partition_map):\n",
    "    device = 0\n",
    "    use_uva = True\n",
    "    batch_size = 1024\n",
    "    sampler = dgl.dataloading.NeighborSampler([20,20,20])\n",
    "    dataloader = dgl.dataloading.DataLoader(graph = graph,\n",
    "                                            indices = training_ids.to(device),\n",
    "                                            graph_sampler = sampler,\n",
    "                                            use_uva=use_uva,\n",
    "                                            batch_size=batch_size)\n",
    "    sample_freq = torch.zeros(num_nodes, dtype=torch.int32, device=device )\n",
    "    for batch_input, batch_seeds, batch_blocks in dataloader:\n",
    "        sample_freq[batch_input] += 1\n",
    "    select_nodes = torch.where(sample_freq != 0)[0]\n",
    "    for i in range(4):\n",
    "        print(i,torch.sum(partition_map[select_nodes] == i))\n",
    "        "
   ]
  },
  {
   "cell_type": "code",
   "execution_count": 8,
   "id": "a29cd011-0922-4be5-8ae9-8e9907f98ee3",
   "metadata": {},
   "outputs": [
    {
     "name": "stdout",
     "output_type": "stream",
     "text": [
      "torch.Size([349873])\n",
      "0 tensor(7449538, device='cuda:0')\n",
      "1 tensor(3817081, device='cuda:0')\n",
      "2 tensor(3097681, device='cuda:0')\n",
      "3 tensor(2235719, device='cuda:0')\n"
     ]
    }
   ],
   "source": [
    "train_idx1 = train_idx[partition_map[train_idx] == 0]\n",
    "print(train_idx1.shape)\n",
    "final_freq_per_partition(train_idx1, graph, partition_map)"
   ]
  },
  {
   "cell_type": "code",
   "execution_count": 12,
   "id": "0b3d986a-6405-4c0b-9bd3-2607bfdff310",
   "metadata": {},
   "outputs": [],
   "source": [
    "final_idx = []\n",
    "for i in range(4):\n",
    "    original_train_idx = train_idx[partition_map[train_idx] == i]\n",
    "    select = torch.where(partition_map == i)[0]\n",
    "    degrees = indptr_d[select + 1] - indptr_d[select]\n",
    "    _, inv = torch.sort(degrees, descending = True )\n",
    "    select = inv[:original_train_idx.shape[0]]\n",
    "    final_idx.append(select)\n",
    "\n",
    "training_alt = torch.cat(final_idx,dim = 0)\n",
    "\n",
    "    # print(select.shape)\n",
    "# final_freq_per_partition(select, graph, partition_map)"
   ]
  },
  {
   "cell_type": "code",
   "execution_count": 13,
   "id": "c8385663-7c47-444a-b9e2-cc06c32e811d",
   "metadata": {},
   "outputs": [],
   "source": [
    "torch.save(training_alt,f\"{load_path}/training_alt.pt\")"
   ]
  }
 ],
 "metadata": {
  "kernelspec": {
   "display_name": "Python 3 (ipykernel)",
   "language": "python",
   "name": "python3"
  },
  "language_info": {
   "codemirror_mode": {
    "name": "ipython",
    "version": 3
   },
   "file_extension": ".py",
   "mimetype": "text/x-python",
   "name": "python",
   "nbconvert_exporter": "python",
   "pygments_lexer": "ipython3",
   "version": "3.11.5"
  }
 },
 "nbformat": 4,
 "nbformat_minor": 5
}
