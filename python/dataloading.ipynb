{
 "cells": [
  {
   "cell_type": "code",
   "execution_count": 2,
   "id": "b9bc660c-7f82-4c23-9d58-e037c2fa56ed",
   "metadata": {
    "tags": []
   },
   "outputs": [],
   "source": [
    "from runner.util import *\n",
    "\n",
    "import dgl\n"
   ]
  },
  {
   "cell_type": "code",
   "execution_count": 22,
   "id": "4d960f06-4aa3-43b0-894d-551ca1b80c4a",
   "metadata": {
    "tags": []
   },
   "outputs": [],
   "source": [
    "config = RunConfig()\n",
    "config.graph_name = \"ogbn-products\"\n",
    "dataset = load_dgl_graph(config)"
   ]
  },
  {
   "cell_type": "code",
   "execution_count": 23,
   "id": "26489577-a55a-44eb-9eca-e4a23c62944c",
   "metadata": {
    "tags": []
   },
   "outputs": [],
   "source": [
    "idx_split = dataset.get_idx_split()"
   ]
  },
  {
   "cell_type": "code",
   "execution_count": 24,
   "id": "1541de6a-aef0-451b-ab0f-c3771d09e774",
   "metadata": {
    "tags": []
   },
   "outputs": [
    {
     "data": {
      "text/plain": [
       "{'train': tensor([     0,      1,      2,  ..., 196612, 196613, 196614]),\n",
       " 'valid': tensor([196615, 196616, 196617,  ..., 235935, 235936, 235937]),\n",
       " 'test': tensor([ 235938,  235939,  235940,  ..., 2449026, 2449027, 2449028])}"
      ]
     },
     "execution_count": 24,
     "metadata": {},
     "output_type": "execute_result"
    }
   ],
   "source": [
    "idx_split"
   ]
  },
  {
   "cell_type": "code",
   "execution_count": 25,
   "id": "387f4018-9078-42a2-84f5-ad6641712461",
   "metadata": {
    "tags": []
   },
   "outputs": [],
   "source": [
    "train_idx = idx_split.pop(\"train\")"
   ]
  },
  {
   "cell_type": "code",
   "execution_count": 26,
   "id": "36e4050a-09c3-4601-8a3a-0f539416fe33",
   "metadata": {
    "tags": []
   },
   "outputs": [
    {
     "data": {
      "text/plain": [
       "tensor([     0,      1,      2,  ..., 196612, 196613, 196614])"
      ]
     },
     "execution_count": 26,
     "metadata": {},
     "output_type": "execute_result"
    }
   ],
   "source": [
    "train_idx"
   ]
  },
  {
   "cell_type": "code",
   "execution_count": 27,
   "id": "66727bcf-0f5e-4116-bb0e-160f7b8f707e",
   "metadata": {
    "tags": []
   },
   "outputs": [
    {
     "data": {
      "text/plain": [
       "{'valid': tensor([196615, 196616, 196617,  ..., 235935, 235936, 235937]),\n",
       " 'test': tensor([ 235938,  235939,  235940,  ..., 2449026, 2449027, 2449028])}"
      ]
     },
     "execution_count": 27,
     "metadata": {},
     "output_type": "execute_result"
    }
   ],
   "source": [
    "idx_split"
   ]
  },
  {
   "cell_type": "code",
   "execution_count": null,
   "id": "0e3df900-2ff3-4525-803c-b5aa99c4d248",
   "metadata": {},
   "outputs": [],
   "source": []
  }
 ],
 "metadata": {
  "kernelspec": {
   "display_name": "Python 3 (ipykernel)",
   "language": "python",
   "name": "python3"
  },
  "language_info": {
   "codemirror_mode": {
    "name": "ipython",
    "version": 3
   },
   "file_extension": ".py",
   "mimetype": "text/x-python",
   "name": "python",
   "nbconvert_exporter": "python",
   "pygments_lexer": "ipython3",
   "version": "3.11.4"
  }
 },
 "nbformat": 4,
 "nbformat_minor": 5
}
